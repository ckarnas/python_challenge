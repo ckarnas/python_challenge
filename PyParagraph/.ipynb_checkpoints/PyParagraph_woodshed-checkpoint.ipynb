{
 "cells": [
  {
   "cell_type": "code",
   "execution_count": 13,
   "metadata": {},
   "outputs": [],
   "source": [
    "#The program to run PyParagraph\n",
    "#Colleen Karnas-Haines\n",
    "#3/2/2018\n",
    "\n",
    "import os\n",
    "\n",
    "\n",
    "\n",
    "data_file = os.path.join('data_bootcamp_ad.txt')\n",
    "text_to_analyze = open(data_file,\"r\") \n",
    "paragraph= (text_to_analyze.read()) \n",
    "#print (text_to_analyze.read()) \n",
    "#print (paragraph)\n",
    "\n",
    "\n",
    "\n"
   ]
  },
  {
   "cell_type": "code",
   "execution_count": 16,
   "metadata": {},
   "outputs": [
    {
     "data": {
      "text/plain": [
       "198"
      ]
     },
     "execution_count": 16,
     "metadata": {},
     "output_type": "execute_result"
    }
   ],
   "source": [
    "words = paragraph.split()\n",
    "word_count = len(words)\n",
    "word_count\n"
   ]
  },
  {
   "cell_type": "code",
   "execution_count": 17,
   "metadata": {},
   "outputs": [
    {
     "data": {
      "text/plain": [
       "11"
      ]
     },
     "execution_count": 17,
     "metadata": {},
     "output_type": "execute_result"
    }
   ],
   "source": [
    "total_sentences = 0\n",
    "for x in words:\n",
    "    if (\". \" in x) | (\"?\" in x):\n",
    "        total_sentences = total_sentences + 1\n",
    "\n",
    "total_sentences\n",
    "\n",
    "total_sentences = paragraph.count(\".\") + paragraph.count(\"?\")\n",
    "total_sentences"
   ]
  },
  {
   "cell_type": "code",
   "execution_count": 18,
   "metadata": {},
   "outputs": [
    {
     "data": {
      "text/plain": [
       "18.0"
      ]
     },
     "execution_count": 18,
     "metadata": {},
     "output_type": "execute_result"
    }
   ],
   "source": [
    "Avg_length_sent = round(word_count / total_sentences, 1)\n",
    "Avg_length_sent"
   ]
  },
  {
   "cell_type": "code",
   "execution_count": 19,
   "metadata": {},
   "outputs": [
    {
     "data": {
      "text/plain": [
       "998"
      ]
     },
     "execution_count": 19,
     "metadata": {},
     "output_type": "execute_result"
    }
   ],
   "source": [
    "#nonletters = paragraph.count(\" \") + paragraph.count(\".\") + paragraph.count(\"?\") + paragraph.count(\",\") + paragraph.count(\"-\")\n",
    "nonletters = sum(map(paragraph.count, [\".\", \" \",\"?\",\",\",\"-\",\"!\",\";\",\":\", \"+\", \"=\", \"-\", \"<\", \">\"]))\n",
    "total_chars = len(paragraph) - nonletters\n",
    "total_chars\n"
   ]
  },
  {
   "cell_type": "code",
   "execution_count": 12,
   "metadata": {},
   "outputs": [
    {
     "data": {
      "text/plain": [
       "5.0"
      ]
     },
     "execution_count": 12,
     "metadata": {},
     "output_type": "execute_result"
    }
   ],
   "source": [
    "avg_word_length = round(total_chars/word_count, 1)\n",
    "avg_word_length"
   ]
  },
  {
   "cell_type": "code",
   "execution_count": null,
   "metadata": {},
   "outputs": [],
   "source": []
  },
  {
   "cell_type": "code",
   "execution_count": null,
   "metadata": {
    "collapsed": true
   },
   "outputs": [],
   "source": []
  }
 ],
 "metadata": {
  "kernelspec": {
   "display_name": "Python 3",
   "language": "python",
   "name": "python3"
  },
  "language_info": {
   "codemirror_mode": {
    "name": "ipython",
    "version": 3
   },
   "file_extension": ".py",
   "mimetype": "text/x-python",
   "name": "python",
   "nbconvert_exporter": "python",
   "pygments_lexer": "ipython3",
   "version": "3.6.3"
  }
 },
 "nbformat": 4,
 "nbformat_minor": 2
}
