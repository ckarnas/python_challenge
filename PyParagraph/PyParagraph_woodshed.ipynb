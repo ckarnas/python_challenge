{
 "cells": [
  {
   "cell_type": "code",
   "execution_count": 1,
   "metadata": {},
   "outputs": [],
   "source": [
    "#The program to run PyParagraph\n",
    "#Colleen Karnas-Haines\n",
    "#3/2/2018\n",
    "\n",
    "import os\n",
    "\n",
    "\n",
    "\n",
    "data_file = os.path.join('data_bootcamp_ad.txt')\n",
    "text_to_analyze = open(data_file,\"r\") \n",
    "para= (text_to_analyze.read()) \n",
    "data_file2 = os.path.join('coding_bootcamp_ad.txt')\n",
    "text_to_analyze2 = open(data_file2,\"r\") \n",
    "para2= (text_to_analyze2.read()) \n",
    "\n",
    "#print (text_to_analyze.read()) \n",
    "#print (paragraph)\n",
    "\n",
    "\n",
    "\n"
   ]
  },
  {
   "cell_type": "code",
   "execution_count": 2,
   "metadata": {},
   "outputs": [
    {
     "ename": "SyntaxError",
     "evalue": "unexpected EOF while parsing (<ipython-input-2-cbdb2785d475>, line 3)",
     "output_type": "error",
     "traceback": [
      "\u001b[1;36m  File \u001b[1;32m\"<ipython-input-2-cbdb2785d475>\"\u001b[1;36m, line \u001b[1;32m3\u001b[0m\n\u001b[1;33m    #print (x)\u001b[0m\n\u001b[1;37m              ^\u001b[0m\n\u001b[1;31mSyntaxError\u001b[0m\u001b[1;31m:\u001b[0m unexpected EOF while parsing\n"
     ]
    }
   ],
   "source": [
    "comparing_for_fun = {para:[], para2:[]}\n",
    "for paragraph in comparing_for_fun:\n",
    "    #print (x)\n"
   ]
  },
  {
   "cell_type": "code",
   "execution_count": null,
   "metadata": {},
   "outputs": [],
   "source": [
    "    words = paragraph.split()\n",
    "    word_count = len(words)\n",
    "    word_count\n"
   ]
  },
  {
   "cell_type": "code",
   "execution_count": null,
   "metadata": {},
   "outputs": [],
   "source": [
    "    total_sentences = 0\n",
    "    for x in words:\n",
    "        if (\". \" in x) | (\"?\" in x):\n",
    "            total_sentences = total_sentences + 1\n",
    "\n",
    "    total_sentences\n",
    "\n",
    "    total_sentences = paragraph.count(\".\") + paragraph.count(\"?\")\n",
    "    total_sentences"
   ]
  },
  {
   "cell_type": "code",
   "execution_count": null,
   "metadata": {},
   "outputs": [],
   "source": [
    "    avg_length_sent = round(word_count / total_sentences, 1)\n",
    "    avg_length_sent"
   ]
  },
  {
   "cell_type": "code",
   "execution_count": null,
   "metadata": {},
   "outputs": [],
   "source": [
    "    #nonletters = paragraph.count(\" \") + paragraph.count(\".\") + paragraph.count(\"?\") + paragraph.count(\",\") + paragraph.count(\"-\")\n",
    "    nonletters = sum(map(paragraph.count, [\".\", \" \",\"?\",\",\",\"-\",\"!\",\";\",\":\", \"+\", \"=\", \"-\", \"<\", \">\"]))\n",
    "    total_chars = len(paragraph) - nonletters\n",
    "    total_chars\n"
   ]
  },
  {
   "cell_type": "code",
   "execution_count": null,
   "metadata": {},
   "outputs": [],
   "source": [
    "    avg_word_length = round(total_chars/word_count, 1)\n",
    "    avg_word_length"
   ]
  },
  {
   "cell_type": "code",
   "execution_count": null,
   "metadata": {},
   "outputs": [],
   "source": [
    "    #Output\n",
    "    fancy_line = \"-----------------\"\n",
    "    print(\"Paragraph analysis\")\n",
    "    print(fancy_line)\n",
    "    print(\"Approximate Word Count: \" + str(word_count))\n",
    "    print(\"Approximate Sentence Count: \" + str(total_sentences))\n",
    "    print(\"Average Letters per Word: \" + str(avg_word_length))\n",
    "    print(\"Average Sentence Length: \" + str(avg_length_sent))\n",
    "    print(fancy_line)\n",
    "\n"
   ]
  },
  {
   "cell_type": "code",
   "execution_count": null,
   "metadata": {
    "collapsed": true
   },
   "outputs": [],
   "source": []
  }
 ],
 "metadata": {
  "kernelspec": {
   "display_name": "Python 3",
   "language": "python",
   "name": "python3"
  },
  "language_info": {
   "codemirror_mode": {
    "name": "ipython",
    "version": 3
   },
   "file_extension": ".py",
   "mimetype": "text/x-python",
   "name": "python",
   "nbconvert_exporter": "python",
   "pygments_lexer": "ipython3",
   "version": "3.6.3"
  }
 },
 "nbformat": 4,
 "nbformat_minor": 2
}
