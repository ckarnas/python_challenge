{
 "cells": [
  {
   "cell_type": "code",
   "execution_count": 1,
   "metadata": {},
   "outputs": [
    {
     "name": "stdout",
     "output_type": "stream",
     "text": [
      "Paragraph analysis\n",
      "-----------------\n",
      "Approximate Word Count: 130\n",
      "Approximate Sentence Count: 5\n",
      "Average Letters per Word: 6.3\n",
      "Average Sentence Length: 26.0\n",
      "-----------------\n"
     ]
    }
   ],
   "source": [
    "#The program to run PyParagraph\n",
    "#Colleen Karnas-Haines\n",
    "#3/2/2018\n",
    "\n",
    "\n",
    "#\n",
    "#\n",
    "# I did an extra challenge which involved comparing multiple .txt files and making\n",
    "# a summary/comparison analysis. It is listed as main_bonus.py\n",
    "# Check it out!\n",
    "#\n",
    "#\n",
    "\n",
    "import os\n",
    "\n",
    "data_file = os.path.join('raw_data','paragraph_1.txt')\n",
    "text_to_analyze = open(data_file,\"r\") \n",
    "paragraph= (text_to_analyze.read()) \n",
    "\n",
    "#Find word count\n",
    "words = paragraph.split()\n",
    "word_count = len(words)\n",
    "\n",
    "\n",
    "#Find sentence count\n",
    "\n",
    "total_sentences = paragraph.count(\".\") + paragraph.count(\"?\")\n",
    "\n",
    "#Find Avg length of sentences\n",
    "avg_length_sent = round(word_count / total_sentences, 1)\n",
    "\n",
    "\n",
    "#Find Avg length of words\n",
    "nonletters = sum(map(paragraph.count, [\".\", \" \",\"?\",\",\",\"-\",\"!\",\";\",\":\", \"+\", \"=\", \"-\", \"<\", \">\"]))\n",
    "total_chars = len(paragraph) - nonletters\n",
    "avg_word_length = round(total_chars/word_count, 1)\n",
    "\n",
    "#Output\n",
    "fancy_line = \"-----------------\"\n",
    "print(\"Paragraph analysis\")\n",
    "print(fancy_line)\n",
    "print(\"Approximate Word Count: \" + str(word_count))\n",
    "print(\"Approximate Sentence Count: \" + str(total_sentences))\n",
    "print(\"Average Letters per Word: \" + str(avg_word_length))\n",
    "print(\"Average Sentence Length: \" + str(avg_length_sent))\n",
    "print(fancy_line)\n"
   ]
  },
  {
   "cell_type": "code",
   "execution_count": null,
   "metadata": {
    "collapsed": true
   },
   "outputs": [],
   "source": []
  }
 ],
 "metadata": {
  "kernelspec": {
   "display_name": "Python 3",
   "language": "python",
   "name": "python3"
  },
  "language_info": {
   "codemirror_mode": {
    "name": "ipython",
    "version": 3
   },
   "file_extension": ".py",
   "mimetype": "text/x-python",
   "name": "python",
   "nbconvert_exporter": "python",
   "pygments_lexer": "ipython3",
   "version": "3.6.3"
  }
 },
 "nbformat": 4,
 "nbformat_minor": 2
}
