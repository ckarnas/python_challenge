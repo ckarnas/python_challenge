{
 "cells": [
  {
   "cell_type": "code",
   "execution_count": 1,
   "metadata": {
    "collapsed": true
   },
   "outputs": [],
   "source": [
    "#The program to run PyPoll\n",
    "#Colleen Karnas-Haines\n",
    "#3/2/2018\n",
    "\n",
    "#election_data_2.csv\n",
    "\n",
    "import os\n",
    "import pandas as pd\n",
    "csvpath = os.path.join('election_data_2.csv')\n",
    "\n",
    "polling_data = pd.read_csv(csvpath)\n",
    "#polling_data.head()"
   ]
  },
  {
   "cell_type": "code",
   "execution_count": 2,
   "metadata": {
    "collapsed": true
   },
   "outputs": [],
   "source": [
    "#Calculating the total votes\n",
    "total_votes = polling_data[\"Voter ID\"].nunique()\n",
    "#total_votes"
   ]
  },
  {
   "cell_type": "code",
   "execution_count": 3,
   "metadata": {
    "collapsed": true
   },
   "outputs": [],
   "source": [
    "#A list of candidates\n",
    "list_of_candidates = polling_data[\"Candidate\"].unique()\n",
    "#list_of_candidates"
   ]
  },
  {
   "cell_type": "code",
   "execution_count": 4,
   "metadata": {
    "collapsed": true
   },
   "outputs": [],
   "source": [
    "#Make a list of candidate names and their percent of votes\n",
    "each_candidate_percentage = {}\n",
    "for candidate in list_of_candidates:\n",
    "    each_candidate_percentage[candidate]=(polling_data.loc[polling_data[\"Candidate\"] == candidate,\"Candidate\"].count() / total_votes) * 100\n",
    "\n",
    "                                                        \n",
    "#each_candidate_percentage"
   ]
  },
  {
   "cell_type": "code",
   "execution_count": 5,
   "metadata": {
    "collapsed": true
   },
   "outputs": [],
   "source": [
    "#Make a list of candidate names and their total votes\n",
    "each_candidate_total = {}\n",
    "for candidate in list_of_candidates:\n",
    "    each_candidate_total[candidate]=polling_data.loc[polling_data[\"Candidate\"] == candidate,\"Candidate\"].count() \n",
    "\n",
    "#each_candidate_total\n",
    "                                                           "
   ]
  },
  {
   "cell_type": "code",
   "execution_count": 6,
   "metadata": {
    "collapsed": true
   },
   "outputs": [],
   "source": [
    "#Find the candidate with the most votes \n",
    "winner = max(each_candidate_total, key=lambda key: each_candidate_total[key])\n",
    "#winner"
   ]
  },
  {
   "cell_type": "code",
   "execution_count": 7,
   "metadata": {
    "collapsed": true
   },
   "outputs": [],
   "source": [
    "#combine our two lists (percentage and total)\n",
    "from collections import defaultdict\n",
    "\n",
    "combo = defaultdict(list)\n",
    "\n",
    "for candidate in (each_candidate_total, each_candidate_percentage):\n",
    "    for key, value in candidate.items():\n",
    "        combo[key].append(value)\n",
    "\n",
    "#combo"
   ]
  },
  {
   "cell_type": "code",
   "execution_count": 8,
   "metadata": {},
   "outputs": [
    {
     "name": "stdout",
     "output_type": "stream",
     "text": [
      "Election Results\n",
      "----------------------\n",
      "Total Votes: 980412\n",
      "----------------------\n",
      "Correy: 19.9% (195583)\n",
      "Khan: 63.1% (618299)\n",
      "Li: 14.0% (137255)\n",
      "O'Tooley: 3.0% (29275)\n",
      "----------------------\n",
      "Winner: Khan\n",
      "----------------------\n"
     ]
    }
   ],
   "source": [
    "#Output\n",
    "fancy_line = \"----------------------\"\n",
    "print(\"Election Results\")\n",
    "print(fancy_line)\n",
    "print(\"Total Votes: \" + str(total_votes))\n",
    "print(fancy_line)\n",
    "for x in (list_of_candidates):\n",
    "    print(x + \": \" + str(round(combo[x][1],1)) + \"% (\" + str(combo[x][0]) + \")\")\n",
    "print(fancy_line)\n",
    "print(\"Winner: \" + winner)\n",
    "print(fancy_line)\n",
    "\n"
   ]
  },
  {
   "cell_type": "code",
   "execution_count": 9,
   "metadata": {},
   "outputs": [
    {
     "data": {
      "text/plain": [
       "{'Bamoo': {'Percent': 63.0, 'Total': 96665, 'Win Total': 60897},\n",
       " 'Marsh': {'Percent': 63.0, 'Total': 631162, 'Win Total': 398186},\n",
       " 'Queen': {'Percent': 63.0, 'Total': 194277, 'Win Total': 122260},\n",
       " 'Raffah': {'Percent': 63.0, 'Total': 29125, 'Win Total': 18486},\n",
       " 'Trandee': {'Percent': 63.0, 'Total': 29183, 'Win Total': 18470}}"
      ]
     },
     "execution_count": 9,
     "metadata": {},
     "output_type": "execute_result"
    }
   ],
   "source": [
    "#bonus fun\n",
    "#A list of counties\n",
    "list_of_counties = polling_data[\"County\"].unique()\n",
    "\n",
    "each_county_total = {}\n",
    "for county in list_of_counties:\n",
    "    each_county_total[county]={}\n",
    "    each_county_total[county][\"Total\"]=polling_data.loc[polling_data[\"County\"]==county, \"County\"].count()\n",
    "    each_county_total[county][\"Win Total\"]=(polling_data.loc[(polling_data[\"County\"] == county) & (polling_data[\"Candidate\"] == winner),\"County\"]).count()\n",
    "    each_county_total[county][\"Percent\"] = round((each_county_total[county][\"Win Total\"]/each_county_total[county][\"Total\"]), 2)*100\n",
    "                                \n",
    "each_county_total                                                        \n",
    "\n"
   ]
  },
  {
   "cell_type": "code",
   "execution_count": 13,
   "metadata": {},
   "outputs": [
    {
     "name": "stdout",
     "output_type": "stream",
     "text": [
      "Marsh gave Khan the most votes: 398186. But were they the happiest county?\n",
      "Yes!\n",
      "The happiest county is Marsh county, because they had highest percent of their citizens voting for Candidate Khan\n",
      "A whooping 63.0% of Marsh citizens gave their votes to Candidate Khan\n"
     ]
    }
   ],
   "source": [
    "#Summary Stats\n",
    "big_vote_county = max(each_county_total, key = lambda v: each_county_total[v][\"Win Total\"])\n",
    "print(big_vote_county + \" gave \" + winner + \" the most votes: \" + str(each_county_total[big_vote_county][\"Win Total\"]) + \". But were they the happiest county?\")\n",
    "big_percent = max(each_county_total, key = lambda v: each_county_total[v][\"Percent\"])\n",
    "if big_vote_county == big_percent:\n",
    "    print(\"Yes!\")\n",
    "else:\n",
    "    print(\"Interestingly, no.\")\n",
    "print(\"The happiest county is \" + big_percent + \" county, because they had highest percent of their citizens voting for Candidate \" + winner)\n",
    "print(\"A whooping \" + str(each_county_total[big_percent][\"Percent\"]) + \"% of \" + big_percent + \" citizens gave their votes to Candidate \" + winner)"
   ]
  },
  {
   "cell_type": "code",
   "execution_count": null,
   "metadata": {
    "collapsed": true
   },
   "outputs": [],
   "source": []
  }
 ],
 "metadata": {
  "kernelspec": {
   "display_name": "Python 3",
   "language": "python",
   "name": "python3"
  },
  "language_info": {
   "codemirror_mode": {
    "name": "ipython",
    "version": 3
   },
   "file_extension": ".py",
   "mimetype": "text/x-python",
   "name": "python",
   "nbconvert_exporter": "python",
   "pygments_lexer": "ipython3",
   "version": "3.6.3"
  }
 },
 "nbformat": 4,
 "nbformat_minor": 2
}
