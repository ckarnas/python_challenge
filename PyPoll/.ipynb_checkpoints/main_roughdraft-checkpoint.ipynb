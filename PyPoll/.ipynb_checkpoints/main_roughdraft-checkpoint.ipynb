{
 "cells": [
  {
   "cell_type": "code",
   "execution_count": 1,
   "metadata": {},
   "outputs": [
    {
     "data": {
      "text/html": [
       "<div>\n",
       "<style>\n",
       "    .dataframe thead tr:only-child th {\n",
       "        text-align: right;\n",
       "    }\n",
       "\n",
       "    .dataframe thead th {\n",
       "        text-align: left;\n",
       "    }\n",
       "\n",
       "    .dataframe tbody tr th {\n",
       "        vertical-align: top;\n",
       "    }\n",
       "</style>\n",
       "<table border=\"1\" class=\"dataframe\">\n",
       "  <thead>\n",
       "    <tr style=\"text-align: right;\">\n",
       "      <th></th>\n",
       "      <th>Voter ID</th>\n",
       "      <th>County</th>\n",
       "      <th>Candidate</th>\n",
       "    </tr>\n",
       "  </thead>\n",
       "  <tbody>\n",
       "    <tr>\n",
       "      <th>0</th>\n",
       "      <td>19191663</td>\n",
       "      <td>Marsh</td>\n",
       "      <td>Correy</td>\n",
       "    </tr>\n",
       "    <tr>\n",
       "      <th>1</th>\n",
       "      <td>17059758</td>\n",
       "      <td>Bamoo</td>\n",
       "      <td>Khan</td>\n",
       "    </tr>\n",
       "    <tr>\n",
       "      <th>2</th>\n",
       "      <td>13319865</td>\n",
       "      <td>Marsh</td>\n",
       "      <td>Khan</td>\n",
       "    </tr>\n",
       "    <tr>\n",
       "      <th>3</th>\n",
       "      <td>11705984</td>\n",
       "      <td>Marsh</td>\n",
       "      <td>Khan</td>\n",
       "    </tr>\n",
       "    <tr>\n",
       "      <th>4</th>\n",
       "      <td>14007592</td>\n",
       "      <td>Trandee</td>\n",
       "      <td>Khan</td>\n",
       "    </tr>\n",
       "  </tbody>\n",
       "</table>\n",
       "</div>"
      ],
      "text/plain": [
       "   Voter ID   County Candidate\n",
       "0  19191663    Marsh    Correy\n",
       "1  17059758    Bamoo      Khan\n",
       "2  13319865    Marsh      Khan\n",
       "3  11705984    Marsh      Khan\n",
       "4  14007592  Trandee      Khan"
      ]
     },
     "execution_count": 1,
     "metadata": {},
     "output_type": "execute_result"
    }
   ],
   "source": [
    "#The program to run PyPoll\n",
    "#Colleen Karnas-Haines\n",
    "#3/2/2018\n",
    "\n",
    "#election_data_2.csv\n",
    "\n",
    "import os\n",
    "import pandas as pd\n",
    "csvpath = os.path.join('election_data_2.csv')\n",
    "\n",
    "polling_data = pd.read_csv(csvpath)\n",
    "#polling_data.head()"
   ]
  },
  {
   "cell_type": "code",
   "execution_count": 2,
   "metadata": {},
   "outputs": [
    {
     "data": {
      "text/plain": [
       "980412"
      ]
     },
     "execution_count": 2,
     "metadata": {},
     "output_type": "execute_result"
    }
   ],
   "source": [
    "#Calculating the total votes\n",
    "total_votes = polling_data[\"Voter ID\"].nunique()\n",
    "#total_votes"
   ]
  },
  {
   "cell_type": "code",
   "execution_count": 3,
   "metadata": {},
   "outputs": [
    {
     "data": {
      "text/plain": [
       "array(['Correy', 'Khan', 'Li', \"O'Tooley\"], dtype=object)"
      ]
     },
     "execution_count": 3,
     "metadata": {},
     "output_type": "execute_result"
    }
   ],
   "source": [
    "#A list of candidates\n",
    "list_of_candidates = polling_data[\"Candidate\"].unique()\n",
    "#list_of_candidates"
   ]
  },
  {
   "cell_type": "code",
   "execution_count": 4,
   "metadata": {},
   "outputs": [
    {
     "data": {
      "text/plain": [
       "{'Correy': 19.949062230980445,\n",
       " 'Khan': 63.065221559915628,\n",
       " 'Li': 13.999726645532695,\n",
       " \"O'Tooley\": 2.9859895635712332}"
      ]
     },
     "execution_count": 4,
     "metadata": {},
     "output_type": "execute_result"
    }
   ],
   "source": [
    "#Make a list of candidate names and their percent of votes\n",
    "each_candidate_percentage = {}\n",
    "for candidate in list_of_candidates:\n",
    "    each_candidate_percentage[candidate]=(polling_data.loc[polling_data[\"Candidate\"] == candidate,\"Candidate\"].count() / total_votes) * 100\n",
    "\n",
    "                                                        \n",
    "#each_candidate_percentage"
   ]
  },
  {
   "cell_type": "code",
   "execution_count": 5,
   "metadata": {},
   "outputs": [
    {
     "data": {
      "text/plain": [
       "{'Correy': 195583, 'Khan': 618299, 'Li': 137255, \"O'Tooley\": 29275}"
      ]
     },
     "execution_count": 5,
     "metadata": {},
     "output_type": "execute_result"
    }
   ],
   "source": [
    "#Make a list of candidate names and their total votes\n",
    "each_candidate_total = {}\n",
    "for candidate in list_of_candidates:\n",
    "    each_candidate_total[candidate]=polling_data.loc[polling_data[\"Candidate\"] == candidate,\"Candidate\"].count() \n",
    "\n",
    "#each_candidate_total\n",
    "                                                           "
   ]
  },
  {
   "cell_type": "code",
   "execution_count": 7,
   "metadata": {},
   "outputs": [
    {
     "data": {
      "text/plain": [
       "'Khan'"
      ]
     },
     "execution_count": 7,
     "metadata": {},
     "output_type": "execute_result"
    }
   ],
   "source": [
    "#Find the candidate with the most votes \n",
    "winner = max(each_candidate_total, key=lambda key: each_candidate_total[key])\n",
    "#winner"
   ]
  },
  {
   "cell_type": "code",
   "execution_count": 8,
   "metadata": {},
   "outputs": [
    {
     "data": {
      "text/plain": [
       "defaultdict(list,\n",
       "            {'Correy': [195583, 19.949062230980445],\n",
       "             'Khan': [618299, 63.065221559915628],\n",
       "             'Li': [137255, 13.999726645532695],\n",
       "             \"O'Tooley\": [29275, 2.9859895635712332]})"
      ]
     },
     "execution_count": 8,
     "metadata": {},
     "output_type": "execute_result"
    }
   ],
   "source": [
    "#combine our two lists (percentage and total)\n",
    "from collections import defaultdict\n",
    "\n",
    "combo = defaultdict(list)\n",
    "\n",
    "for candidate in (each_candidate_total, each_candidate_percentage):\n",
    "    for key, value in candidate.items():\n",
    "        combo[key].append(value)\n",
    "\n",
    "#combo"
   ]
  },
  {
   "cell_type": "code",
   "execution_count": 38,
   "metadata": {},
   "outputs": [
    {
     "name": "stdout",
     "output_type": "stream",
     "text": [
      "Election Results\n",
      "----------------------\n",
      "Total Votes: 980412\n",
      "----------------------\n",
      "Correy: 19.9% (195583)\n",
      "Khan: 63.1% (618299)\n",
      "Li: 14.0% (137255)\n",
      "O'Tooley: 3.0% (29275)\n",
      "----------------------\n",
      "Winner: Khan\n",
      "----------------------\n"
     ]
    }
   ],
   "source": [
    "#Output\n",
    "fancy_line = \"----------------------\"\n",
    "print(\"Election Results\")\n",
    "print(fancy_line)\n",
    "print(\"Total Votes: \" + str(total_votes))\n",
    "print(fancy_line)\n",
    "for x in (list_of_candidates):\n",
    "    print(x + \": \" + str(round(combo[x][1],1)) + \"% (\" + str(combo[x][0]) + \")\")\n",
    "print(fancy_line)\n",
    "print(\"Winner: \" + winner)\n",
    "print(fancy_line)\n",
    "\n"
   ]
  },
  {
   "cell_type": "code",
   "execution_count": null,
   "metadata": {
    "collapsed": true
   },
   "outputs": [],
   "source": []
  }
 ],
 "metadata": {
  "kernelspec": {
   "display_name": "Python 3",
   "language": "python",
   "name": "python3"
  },
  "language_info": {
   "codemirror_mode": {
    "name": "ipython",
    "version": 3
   },
   "file_extension": ".py",
   "mimetype": "text/x-python",
   "name": "python",
   "nbconvert_exporter": "python",
   "pygments_lexer": "ipython3",
   "version": "3.6.3"
  }
 },
 "nbformat": 4,
 "nbformat_minor": 2
}
